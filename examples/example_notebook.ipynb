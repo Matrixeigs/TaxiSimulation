{
 "cells": [
  {
   "cell_type": "markdown",
   "metadata": {},
   "source": [
    "# TaxiSimulation examples"
   ]
  },
  {
   "cell_type": "markdown",
   "metadata": {},
   "source": [
    "- typical import"
   ]
  },
  {
   "cell_type": "code",
   "execution_count": 3,
   "metadata": {
    "collapsed": false
   },
   "outputs": [],
   "source": [
    "using TaxiSimulation, RoutingNetworks, JLD"
   ]
  },
  {
   "cell_type": "markdown",
   "metadata": {},
   "source": [
    "## Creating TaxiProblems"
   ]
  },
  {
   "cell_type": "markdown",
   "metadata": {},
   "source": [
    "The `TaxiProblem` class represents problems we are trying to solve. Its most important features are:\n",
    "- a `Network` object from the `RoutingNetworks` package, together with a `RoutingPaths` object from the same package. These types represent the static routing graph and directions that will be used by taxis. Another `RoutingPaths` object describes the costs. The hypothesis is that taxis will use shortest paths in time (and not in cost)\n",
    "- a set of `Customers` (all customers to appear)\n",
    "- a set of `Taxis` (all taxis on the map)"
   ]
  },
  {
   "cell_type": "markdown",
   "metadata": {},
   "source": [
    "###  Synthetic problems"
   ]
  },
  {
   "cell_type": "markdown",
   "metadata": {},
   "source": [
    "- We create here a typical small-sized routing problem on a synthetic city"
   ]
  },
  {
   "cell_type": "code",
   "execution_count": 9,
   "metadata": {
    "collapsed": false
   },
   "outputs": [
    {
     "data": {
      "text/plain": [
       "Taxi Problem\n",
       "City with 192 locations and 640 roads\n",
       "Simulation with 72 customers and 20 taxis for 60.00 minutes\n"
      ]
     },
     "execution_count": 9,
     "metadata": {},
     "output_type": "execute_result"
    }
   ],
   "source": [
    "# the network\n",
    "n = urbanNetwork(8, distance=800.)\n",
    "\n",
    "# the travel-times and paths. Here with road-types maximal speeds \n",
    "# (see RoutingNetworks for more details)\n",
    "routing = roadTypeRouting(n)\n",
    "\n",
    "#usually,the costs are proportional to the times (but not necessarily)\n",
    "# here the cost is $5 per hour of driving\n",
    "costs = RoutingPaths(n, routing.times*5./3600.)\n",
    "\n",
    "# We create the taxi problem\n",
    "# - customerTime = nb of seconds to pickup or dropoff a customer\n",
    "# - waitingCost = nb of $ per second of a taxi waiting. (here $1/hour)\n",
    "pb = TaxiProblem(n,routing,costs,customerTime= 10., waitingCost = 1./3600.)\n",
    "\n",
    "# The problem is still incomplete, we need to add customer and taxis\n",
    "# we first add random customers, see `taxiproblem/randomproblem.jl` for more info\n",
    "# 1h of customer pickups, 0.35 customers per node per hour, fare = $80/hour, \n",
    "# customers can wait up to 5min after pickup time, and call 30min before\n",
    "addRandomCustomers!(pb, 3600., 0.35, hourFare=80., custWait=5.0*60, custCall= 30.0*60)\n",
    "\n",
    "# 20 uniformly distributed identical random taxis, all available at beginning of simulation\n",
    "addRandomTaxis!(pb, 20)\n",
    "\n",
    "# save this problem locally for latter use\n",
    "save(\"data/smallurb.jld\", \"pb\", pb)\n",
    "pb"
   ]
  },
  {
   "cell_type": "markdown",
   "metadata": {},
   "source": [
    "### Real-world problems "
   ]
  },
  {
   "cell_type": "markdown",
   "metadata": {},
   "source": [
    "We present here the creation of a problem using Manhattan's taxi data\n",
    "\n",
    "#### Constructing real-world networks\n",
    "The first step is to create the desired routing network. This can be done with the package RoutingNetworks, from a polygon. In our case we will use the predefined MANHATTAN polygon."
   ]
  },
  {
   "cell_type": "code",
   "execution_count": 13,
   "metadata": {
    "collapsed": false
   },
   "outputs": [],
   "source": [
    "MANHATTAN_POLY = Tuple{Float32,Float32}[(-74.01369f0,40.69977f0), (-74.00597f0,40.702637f0), (-73.99944f0,40.70641f0), (-73.991714f0,40.708492f0), (-73.9761f0,40.71044f0), (-73.96923f0,40.72931f0), (-73.973526f0,40.736073f0), (-73.9615f0,40.75402f0), (-73.941765f0,40.774693f0), (-73.94348f0,40.78223f0), (-73.938156f0,40.78535f0), (-73.93593f0,40.79029f0), (-73.928894f0,40.79432f0), (-73.92872f0,40.803024f0), (-73.93318f0,40.80744f0), (-73.9349f0,40.833942f0), (-73.92134f0,40.85745f0), (-73.91893f0,40.858356f0), (-73.913956f0,40.863678f0), (-73.909706f0,40.872345f0), (-73.91829f0,40.875168f0), (-73.92648f0,40.879192f0), (-73.93344f0,40.87244f0), (-73.933525f0,40.86793f0), (-73.943436f0,40.853584f0), (-73.947945f0,40.85164f0), (-73.94713f0,40.84414f0), (-73.9552f0,40.828682f0), (-73.96091f0,40.8205f0), (-73.97734f0,40.79864f0), (-73.98957f0,40.78077f0), (-73.996994f0,40.770725f0), (-74.00352f0,40.761368f0), (-74.01064f0,40.75103f0), (-74.01532f0,40.719486f0), (-74.01764f0,40.719063f0), (-74.02047f0,40.704067f0)];"
   ]
  },
  {
   "cell_type": "markdown",
   "metadata": {},
   "source": [
    "- get data (can take some time)"
   ]
  },
  {
   "cell_type": "code",
   "execution_count": 14,
   "metadata": {
    "collapsed": false
   },
   "outputs": [
    {
     "name": "stdout",
     "output_type": "stream",
     "text": [
      "Downloading OSM file (may take time)...\n"
     ]
    },
    {
     "name": "stderr",
     "output_type": "stream",
     "text": [
      "  % Total    % Received % Xferd  Average Speed   Time    Time     Time  Current\n",
      "                                 Dload  Upload   Total   Spent    Left  Speed\n",
      "100  225M    0  225M    0     0  4022k      0 --:--:--  0:00:57 --:--:-- 8083k"
     ]
    },
    {
     "name": "stdout",
     "output_type": "stream",
     "text": [
      "Parsing OSM file...\n"
     ]
    },
    {
     "name": "stderr",
     "output_type": "stream",
     "text": [
      "\r",
      "100  227M    0  227M    0     0  4021k      0 --:--:--  0:00:57 --:--:-- 7097k\n"
     ]
    },
    {
     "name": "stdout",
     "output_type": "stream",
     "text": [
      "Creating routing Network\n"
     ]
    },
    {
     "data": {
      "text/plain": []
     },
     "execution_count": 14,
     "metadata": {},
     "output_type": "execute_result"
    },
    {
     "name": "stdout",
     "output_type": "stream",
     "text": [
      "Network with 21605 nodes and 33222 edges\n"
     ]
    }
   ],
   "source": [
    "manhattanNetwork = queryOsmPolygon(MANHATTAN_POLY)"
   ]
  },
  {
   "cell_type": "markdown",
   "metadata": {},
   "source": [
    "- format the network to our need"
   ]
  },
  {
   "cell_type": "code",
   "execution_count": 15,
   "metadata": {
    "collapsed": false
   },
   "outputs": [
    {
     "data": {
      "text/plain": []
     },
     "execution_count": 15,
     "metadata": {},
     "output_type": "execute_result"
    },
    {
     "name": "stdout",
     "output_type": "stream",
     "text": [
      "Network with 4330 nodes and 9583 edges\n"
     ]
    }
   ],
   "source": [
    "manhattanNetwork = roadTypeSubset(manhattanNetwork,1:6) # only keep main driving roads\n",
    "manhattanNetwork = stronglyConnected(manhattanNetwork,1) # only keep the main connected component (hoping it's the one of node 1)\n",
    "manhattanNetwork = intersections(manhattanNetwork) # simplify enormously the network, so that each node correspond to an intersection"
   ]
  },
  {
   "cell_type": "markdown",
   "metadata": {},
   "source": [
    "- save the network to a julia JLD file for latter use"
   ]
  },
  {
   "cell_type": "code",
   "execution_count": null,
   "metadata": {
    "collapsed": false
   },
   "outputs": [],
   "source": [
    "saveTemplate(manhattanNetwork, \"Manhattan\")"
   ]
  },
  {
   "cell_type": "markdown",
   "metadata": {},
   "source": [
    "- to load the network, just do:"
   ]
  },
  {
   "cell_type": "code",
   "execution_count": 16,
   "metadata": {
    "collapsed": false
   },
   "outputs": [
    {
     "data": {
      "text/plain": []
     },
     "execution_count": 16,
     "metadata": {},
     "output_type": "execute_result"
    },
    {
     "name": "stdout",
     "output_type": "stream",
     "text": [
      "Network with 4324 nodes and 9518 edges\n"
     ]
    }
   ],
   "source": [
    "manhattanNetwork = loadTemplate(\"Manhattan\")\n",
    "# visualize(manhattanNetwork)"
   ]
  },
  {
   "cell_type": "code",
   "execution_count": 18,
   "metadata": {
    "collapsed": true
   },
   "outputs": [],
   "source": [
    "visualize(manhattanNetwork)"
   ]
  },
  {
   "cell_type": "markdown",
   "metadata": {},
   "source": [
    "#### Getting real taxi-data\n",
    "For now, the package is able to parse and load CSVs of taxi trips from the NYC taxi and limousines commission. The data is parsed and files can then be saved by date to simplify the reading."
   ]
  },
  {
   "cell_type": "code",
   "execution_count": null,
   "metadata": {
    "collapsed": true
   },
   "outputs": [],
   "source": []
  },
  {
   "cell_type": "markdown",
   "metadata": {},
   "source": [
    "# Timings Inference examples "
   ]
  },
  {
   "cell_type": "markdown",
   "metadata": {},
   "source": [
    "Typical import "
   ]
  },
  {
   "cell_type": "code",
   "execution_count": 5,
   "metadata": {
    "collapsed": false
   },
   "outputs": [],
   "source": [
    "using TaxiSimulation, RoutingNetworks,JLD"
   ]
  },
  {
   "cell_type": "markdown",
   "metadata": {},
   "source": [
    "# Network timings optimization\n",
    "## Synthesizing network data\n",
    "First, we create a synthetic network `n` (with tools from RoutingNetworks.jl). We associate it with a set of synthetic \"true\" timings `trueTimings`. Timings contains link times and times for each path.\n",
    "\n",
    "Uncomment visualizations to see results"
   ]
  },
  {
   "cell_type": "code",
   "execution_count": 6,
   "metadata": {
    "collapsed": false
   },
   "outputs": [
    {
     "ename": "LoadError",
     "evalue": "LoadError: UndefVarError: randomTimings not defined\nwhile loading In[6], in expression starting on line 5",
     "output_type": "error",
     "traceback": [
      "LoadError: UndefVarError: randomTimings not defined\nwhile loading In[6], in expression starting on line 5",
      ""
     ]
    }
   ],
   "source": [
    "n = urbanNetwork(8)\n",
    "# visualize(n)\n",
    "\n",
    "# random speeds (btw 0 and 130kph)\n",
    "trueRouting = randomTimings(n)\n",
    "\n",
    "# another possibility: constant predefined speed for each road-type\n",
    "trueTimings = roadTypeTimings(n)\n",
    "\n",
    "# visualize(ShowTimes(n,trueTimings))"
   ]
  },
  {
   "cell_type": "markdown",
   "metadata": {},
   "source": [
    "Then, we create a synthetic set of trips based on this \"true\" times. This is stored as a `NetworkData` object, which contained all information for timings inference: network structure, trips and speed limits"
   ]
  },
  {
   "cell_type": "code",
   "execution_count": null,
   "metadata": {
    "collapsed": false
   },
   "outputs": [],
   "source": [
    "# All possible trips are given (for testing purposes)\n",
    "pb = perfectVirtualData(trueTimings, 0.) \n",
    "\n",
    "# Generate data that tries to mimic real rides in a uniform city. \n",
    "pb = noisyVirtualData(trueTimings, 0.2, 2., timeStd = 20.)"
   ]
  },
  {
   "cell_type": "markdown",
   "metadata": {},
   "source": [
    "## Iterative methods\n",
    "The `IterativeState` object represents the state of an iterative time-estimation algorithm. It contains all the data, the current computed times, the set of paths that is used...\n",
    "\n",
    "- `LimitedPath` is an implementation, that computes iteratively a set of paths for a subset of the trip data. A limit on the number of paths can be set.\n",
    "\n",
    "The different methods available to compute new times are:\n",
    "- `lp`: minimize MAPE (Mean absolute percentage error), uses Gurobi. `lpCo` and `lpCoNbhd` (Nbhd == Neighborhood) just add continuity constraints.\n",
    "- `socp`: minimize MRE (Max ratio error), uses Mosek. `socpCo` and `Nbhd` (Nbhd == Neighborhood) just add continuity constraints.\n",
    "- `mip`: implements the \"minimum\" constraints"
   ]
  },
  {
   "cell_type": "code",
   "execution_count": null,
   "metadata": {
    "collapsed": false
   },
   "outputs": [],
   "source": [
    "# first, initialize the iterative method with a set of times.\n",
    "# Several options here\n",
    "initialTimes = uniformTimes(n,50) #speed 50kph\n",
    "initialTimes = pb.minTimes # maximal allowed speed\n",
    "initialTimes = randomTimes(n);\n",
    "\n",
    "# them, create the state\n",
    "s = LimitedPaths(pb, initialTimes, pathsPerTrip = 3, maxTrip=1000)\n",
    "\n",
    "# do a number of iterations of a desired algorithm\n",
    "for i = 1:5\n",
    "    doIteration!(s, method=\"lp\", OutputFlag=0)\n",
    "    println(\"Iteration $i, pathDiff=$(s.pathDiff)\")\n",
    "end\n",
    "# solver args can also be given\n",
    "# pathDiff measures how much the last iteration changed the path \n",
    "# (measure of convergence)"
   ]
  },
  {
   "cell_type": "markdown",
   "metadata": {},
   "source": [
    "## Stats and visualization\n",
    "To understand the evolution of iterative methods, we feed the results of each iteration to a NetworkStats object. We then use this object to query and visualize the data.\n",
    "\n",
    "- First, we modify the loop to collect the information"
   ]
  },
  {
   "cell_type": "code",
   "execution_count": null,
   "metadata": {
    "collapsed": false
   },
   "outputs": [],
   "source": [
    "stats = VirtNetworkStats[] # this type of statistics requires that we have access to \"true\" times.\n",
    "\n",
    "initialTimes = randomTimes(n);\n",
    "s = LimitedPaths(pb, initialTimes, pathsPerTrip = 3, maxTrip=1000)\n",
    "\n",
    "push!(stats, VirtNetworkStats(\"start\", s, trueTimings))\n",
    "\n",
    "# save stats at each iteration\n",
    "for i = 1:5\n",
    "    doIteration!(s, method=\"lp\", OutputFlag=0)\n",
    "    push!(stats, VirtNetworkStats(\"Iter $i\", s, trueTimings))\n",
    "    println(\"Iteration $i, pathDiff=$(s.pathDiff)\")\n",
    "end"
   ]
  },
  {
   "cell_type": "markdown",
   "metadata": {},
   "source": [
    "- Now, we can either print stats about a particular iteration, or print or plot the evolution of a particular statistics accross a sequence of iterations"
   ]
  },
  {
   "cell_type": "code",
   "execution_count": null,
   "metadata": {
    "collapsed": false
   },
   "outputs": [],
   "source": [
    "printStats(stats[end]) #stats of last iteration"
   ]
  },
  {
   "cell_type": "code",
   "execution_count": null,
   "metadata": {
    "collapsed": false
   },
   "outputs": [],
   "source": [
    "printStats(stats, \"allPathsLogError\")"
   ]
  },
  {
   "cell_type": "code",
   "execution_count": null,
   "metadata": {
    "collapsed": false
   },
   "outputs": [],
   "source": [
    "plotStats(stats, \"allPathsLogError\")"
   ]
  },
  {
   "cell_type": "markdown",
   "metadata": {},
   "source": [
    "- We can also inspect the evolution of the link times through an interactive visualization:\n",
    "    - `SPACE` and `B` to respectively move to the next or previous iteration.\n",
    "    - `ARROWS` to move around\n",
    "    - `Z` and `X` to move in/out\n",
    "    - `A` and `S` to increase/decrease the drawing size\n",
    "    - `D` to show/hide the nodes of the network\n",
    "    - `Q` and `ESC` to quit"
   ]
  },
  {
   "cell_type": "code",
   "execution_count": null,
   "metadata": {
    "collapsed": false
   },
   "outputs": [],
   "source": [
    "visualize(ShowTimes(n, stats, trueTimings))"
   ]
  },
  {
   "cell_type": "markdown",
   "metadata": {},
   "source": [
    "## Formatting / loading the data\n",
    "- Timings Inference have function to automatically load of NTC data. The CSVs can be found on their [website](http://www.nyc.gov/html/tlc/html/about/trip_record_data.shtml). \n"
   ]
  },
  {
   "cell_type": "code",
   "execution_count": null,
   "metadata": {
    "collapsed": false
   },
   "outputs": [],
   "source": [
    "# Download data from website (will take some time, size = 1.8gb)\n",
    "const DATA_URL_04_2016 = \"https://s3.amazonaws.com/nyc-tlc/trip+data/yellow_tripdata_2016-04.csv\"\n",
    "download(DATA_URL_04_2016, \"taxidata042016.csv\")"
   ]
  },
  {
   "cell_type": "markdown",
   "metadata": {},
   "source": [
    "- We transform this data into a set of `GeoTrip`, which represents one trip in continuous coordinates. Note that a `GeoTrip` also contains the DateTime of the trip. To load from other datasets, one needs to write a converting function."
   ]
  },
  {
   "cell_type": "code",
   "execution_count": null,
   "metadata": {
    "collapsed": false
   },
   "outputs": [],
   "source": [
    "# loads the data as a set of GeoTrip (long computation!)\n",
    "trips = fromNYCTaxiCSV(\"taxidata042016.csv\");"
   ]
  },
  {
   "cell_type": "markdown",
   "metadata": {},
   "source": [
    "- cleaning the data and subsetting it"
   ]
  },
  {
   "cell_type": "code",
   "execution_count": null,
   "metadata": {
    "collapsed": false
   },
   "outputs": [],
   "source": [
    "trips = removeOutliers(trips) # remove trips that are likely to be bad data-points\n",
    "trips = inPolygon(trips, getPolygon(\"Manhattan\")) # origin and destination with specified polygon\n",
    "trips = onlyWeekdays(trips) # another filter\n",
    "trips = inTimeWindow(trips, \"9:00\", \"11:00\"); # restrict to a specific time of the day\n",
    "println(length(trips), \" trips\")"
   ]
  },
  {
   "cell_type": "markdown",
   "metadata": {},
   "source": [
    "- saving for latter use and deleting temporary files"
   ]
  },
  {
   "cell_type": "code",
   "execution_count": null,
   "metadata": {
    "collapsed": true
   },
   "outputs": [],
   "source": [
    "save(\"taxitrips.jld\", \"trips\", trips)\n",
    "rm(\"taxidata042016.csv\")"
   ]
  },
  {
   "cell_type": "code",
   "execution_count": null,
   "metadata": {
    "collapsed": false
   },
   "outputs": [],
   "source": [
    "trips = load(\"taxitrips.jld\", \"trips\");"
   ]
  },
  {
   "cell_type": "markdown",
   "metadata": {},
   "source": [
    "## Timing Prediction\n",
    "- First, we separate the data in a training and a testing set. The `DataSplit` type is a helper."
   ]
  },
  {
   "cell_type": "code",
   "execution_count": null,
   "metadata": {
    "collapsed": false
   },
   "outputs": [],
   "source": [
    "TRAINING_FRACTION = 0.6\n",
    "dataSplit = RandomSplit(trips, TRAINING_FRACTION)"
   ]
  },
  {
   "cell_type": "markdown",
   "metadata": {},
   "source": [
    "- From there, we can directly construct a timings estimator (`GeoTimings` object) on the training set, and use it to compute times for the testing set."
   ]
  },
  {
   "cell_type": "code",
   "execution_count": null,
   "metadata": {
    "collapsed": false
   },
   "outputs": [],
   "source": [
    "K = 15\n",
    "# K nearest-neighbor estimator\n",
    "knnEstimator = KnnTimings(dataSplit, K)"
   ]
  },
  {
   "cell_type": "markdown",
   "metadata": {},
   "source": [
    "- In order to evaluate how well this estimator performs on the data, we can use a GeoStats object"
   ]
  },
  {
   "cell_type": "code",
   "execution_count": null,
   "metadata": {
    "collapsed": false
   },
   "outputs": [],
   "source": [
    "stats = RealGeoStats(\"15-NN stats\", knnEstimator, dataSplit)"
   ]
  },
  {
   "cell_type": "code",
   "execution_count": null,
   "metadata": {
    "collapsed": false,
    "scrolled": true
   },
   "outputs": [],
   "source": [
    "printStats(stats)"
   ]
  },
  {
   "cell_type": "markdown",
   "metadata": {},
   "source": [
    "## Projecting and using Network estimators\n",
    "- In order to use `NetworkTimings` solver with continuous data, we use `NetworkProjector` types as a bridge between the two: \n",
    "    - to create `NetworkData` from `GeoData`\n",
    "    - to use `NetworkTimings` to get `GeoTimings`"
   ]
  },
  {
   "cell_type": "markdown",
   "metadata": {},
   "source": [
    "First, create a projector:"
   ]
  },
  {
   "cell_type": "code",
   "execution_count": null,
   "metadata": {
    "collapsed": false
   },
   "outputs": [],
   "source": [
    "proj = AvgRadius(manhattanNetwork, 200, trips) # project on all nodes within a 4-D sphere\n",
    "proj = NearestRoad(manhattanNetwork, trips) # project onto the nearest road\n",
    "proj = NearestNode(manhattanNetwork, trips) # project onto the nearest node in the network"
   ]
  },
  {
   "cell_type": "markdown",
   "metadata": {},
   "source": [
    "Then, create a NetworkData from the continuous data using the projector (notice that the number of trip may vary when switching to the discrete network representation, some of them are combined):\n"
   ]
  },
  {
   "cell_type": "code",
   "execution_count": null,
   "metadata": {
    "collapsed": false
   },
   "outputs": [],
   "source": [
    "pb = NetworkData(proj, # the projector\n",
    "                 trainSet(dataSplit), # the data we want to use\n",
    "                 maxSpeedTimes(manhattanNetwork)) # speed limits\n",
    "# we will need this one latter.\n",
    "pbTest = NetworkData(proj, testSet(dataSplit), maxSpeedTimes(manhattanNetwork))\n",
    "pb"
   ]
  },
  {
   "cell_type": "markdown",
   "metadata": {},
   "source": [
    "Now we can just use our network-based timings estimation methods. Notice the use of `TimingsFromNetwork` to access the continuous-estimator at each iteration and used to compute the continuous stats.. We use the `RealNetworkStats` to get the discrete stats."
   ]
  },
  {
   "cell_type": "code",
   "execution_count": null,
   "metadata": {
    "collapsed": false
   },
   "outputs": [],
   "source": [
    "initialTimes = randomTimes(manhattanNetwork);\n",
    "s = LimitedPaths(pb, initialTimes, pathsPerTrip = 3, maxTrip=5000)\n",
    "\n",
    "# Network time inference statistics\n",
    "networkStats = RealNetworkStats[]\n",
    "push!(networkStats, RealNetworkStats(\"start\", s, pbTest))\n",
    "\n",
    "# Continuous time inference statistics\n",
    "geoStats = RealGeoStats[]\n",
    "geoEstimator = TimingsFromNetwork(NetworkTimings(s), proj) #use projector to turn network estimator into a geo estimator\n",
    "push!(geoStats, RealGeoStats(\"start\", geoEstimator, dataSplit))\n",
    "\n",
    "# save stats at each iteration\n",
    "for i = 1:5\n",
    "    # Infer new network timings\n",
    "    doIteration!(s, method=\"lp\", OutputFlag=0)\n",
    "    \n",
    "    #compute stats...\n",
    "    push!(networkStats, RealNetworkStats(\"Iter $i\", s, pbTest))\n",
    "    geoEstimator = TimingsFromNetwork(NetworkTimings(s), proj)\n",
    "    push!(geoStats, RealGeoStats(\"Iter $i\", geoEstimator, dataSplit))\n",
    "\n",
    "    println(\"Iteration $i, pathDiff=$(s.pathDiff)\")\n",
    "end"
   ]
  },
  {
   "cell_type": "code",
   "execution_count": null,
   "metadata": {
    "collapsed": false
   },
   "outputs": [],
   "source": [
    "printStats(networkStats, \"testNetworkTripsLogError\")\n",
    "println()\n",
    "printStats(geoStats, \"testTripsLogError\")"
   ]
  },
  {
   "cell_type": "markdown",
   "metadata": {},
   "source": [
    "As before, we can show the evolution as a interactive visualization:"
   ]
  },
  {
   "cell_type": "code",
   "execution_count": null,
   "metadata": {
    "collapsed": false
   },
   "outputs": [],
   "source": [
    "visualize(ShowTimes(manhattanNetwork, networkStats))"
   ]
  }
 ],
 "metadata": {
  "kernelspec": {
   "display_name": "Julia 0.5.0",
   "language": "julia",
   "name": "julia-0.5"
  },
  "language_info": {
   "file_extension": ".jl",
   "mimetype": "application/julia",
   "name": "julia",
   "version": "0.5.0"
  }
 },
 "nbformat": 4,
 "nbformat_minor": 1
}
